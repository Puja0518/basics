{
 "cells": [
  {
   "cell_type": "code",
   "execution_count": 81,
   "id": "60f5ca41",
   "metadata": {
    "scrolled": true
   },
   "outputs": [
    {
     "data": {
      "text/plain": [
       "False"
      ]
     },
     "execution_count": 81,
     "metadata": {},
     "output_type": "execute_result"
    }
   ],
   "source": [
    "x = \"string divide the sentence to list\"\n",
    "z = 1000102267\n",
    "\n",
    "s = 1000\n",
    "t = 100\n",
    "s == t"
   ]
  },
  {
   "cell_type": "code",
   "execution_count": 79,
   "id": "f49c61c8",
   "metadata": {
    "scrolled": true
   },
   "outputs": [
    {
     "name": "stdout",
     "output_type": "stream",
     "text": [
      "present\n"
     ]
    },
    {
     "data": {
      "text/plain": [
       "'string divide the'"
      ]
     },
     "execution_count": 79,
     "metadata": {},
     "output_type": "execute_result"
    }
   ],
   "source": [
    "# target is vi\n",
    "# t = \"the\"\n",
    "if x[14:17] == \"the\":\n",
    "    print(\"present\")\n",
    "x[:17]"
   ]
  },
  {
   "cell_type": "code",
   "execution_count": 86,
   "id": "214c30c0",
   "metadata": {},
   "outputs": [
    {
     "name": "stdout",
     "output_type": "stream",
     "text": [
      "ok\n"
     ]
    }
   ],
   "source": [
    "t = \"id\"\n",
    "if t in x:\n",
    "    print(\"ok\")"
   ]
  },
  {
   "cell_type": "code",
   "execution_count": 65,
   "id": "7d304f94",
   "metadata": {
    "scrolled": true
   },
   "outputs": [
    {
     "name": "stdout",
     "output_type": "stream",
     "text": [
      "14\n",
      "27\n",
      "range 7:10\n"
     ]
    }
   ],
   "source": [
    "# string to index \n",
    "\n",
    "print(x.index(\"the\"))\n",
    "print(x.index(\"to\"))\n",
    "\n",
    "t = \"div\"\n",
    "i = x.index(t)\n",
    "print(f\"range {i}:{i+len(t)}\")"
   ]
  },
  {
   "cell_type": "code",
   "execution_count": 74,
   "id": "6ed8dd0a",
   "metadata": {},
   "outputs": [
    {
     "name": "stdout",
     "output_type": "stream",
     "text": [
      "range 14:17\n"
     ]
    }
   ],
   "source": [
    "c = \"the\"\n",
    "find_range(x,c)"
   ]
  },
  {
   "cell_type": "code",
   "execution_count": 30,
   "id": "a87cd3ba",
   "metadata": {},
   "outputs": [],
   "source": [
    "def find_range(x,t):\n",
    "    i = x.index(t)\n",
    "    print(f\"range {i}:{i+len(t)}\")"
   ]
  },
  {
   "cell_type": "code",
   "execution_count": 54,
   "id": "84b2d105",
   "metadata": {
    "scrolled": true
   },
   "outputs": [
    {
     "name": "stdout",
     "output_type": "stream",
     "text": [
      "i\n",
      "3\n",
      "i\n",
      "8\n",
      "i\n",
      "10\n",
      "i\n",
      "31\n"
     ]
    }
   ],
   "source": [
    "#--- find all i in the string value\n",
    "\n",
    "\n",
    "t = \"i\"\n",
    "idx = 0\n",
    "for itm in x:\n",
    "    if itm == t:\n",
    "        print(itm)\n",
    "        print(idx)\n",
    "    idx= idx+1\n",
    "    idx\n"
   ]
  },
  {
   "cell_type": "code",
   "execution_count": 56,
   "id": "d03a4d48",
   "metadata": {},
   "outputs": [
    {
     "name": "stdout",
     "output_type": "stream",
     "text": [
      "d\n",
      "7\n",
      "d\n",
      "11\n"
     ]
    }
   ],
   "source": [
    "def index_of_str(x,t):\n",
    "    idx = 0\n",
    "    for itm in x:\n",
    "        if itm == t:\n",
    "            print(itm)\n",
    "            print(idx)\n",
    "        idx= idx+1\n",
    "        idx\n",
    "    \n",
    "index_of_str(x, \"d\")"
   ]
  },
  {
   "cell_type": "code",
   "execution_count": 23,
   "id": "416e6262",
   "metadata": {},
   "outputs": [
    {
     "name": "stdout",
     "output_type": "stream",
     "text": [
      "34\n"
     ]
    },
    {
     "data": {
      "text/plain": [
       "'1000'"
      ]
     },
     "execution_count": 23,
     "metadata": {},
     "output_type": "execute_result"
    }
   ],
   "source": [
    "# length of the variable\n",
    "print(len(x))\n",
    "t = str(z)\n",
    "t"
   ]
  },
  {
   "cell_type": "code",
   "execution_count": 8,
   "id": "ded980bd",
   "metadata": {},
   "outputs": [
    {
     "data": {
      "text/plain": [
       "4"
      ]
     },
     "execution_count": 8,
     "metadata": {},
     "output_type": "execute_result"
    }
   ],
   "source": [
    "# length of the variable which is not string\n",
    "len(str(z))"
   ]
  },
  {
   "cell_type": "code",
   "execution_count": 20,
   "id": "0f4dfb28",
   "metadata": {},
   "outputs": [
    {
     "name": "stdout",
     "output_type": "stream",
     "text": [
      "Ne ork\n"
     ]
    }
   ],
   "source": [
    "# access string value by index\n",
    "x[1]\n",
    "# access string value by multiple range index\n",
    "x[5:8]\n",
    "# access string value by different-different index\n",
    "print(x[:2],x[5:])\n"
   ]
  },
  {
   "cell_type": "code",
   "execution_count": 33,
   "id": "74b85d1d",
   "metadata": {},
   "outputs": [
    {
     "name": "stdout",
     "output_type": "stream",
     "text": [
      "divide to\n",
      "['divide', 'the', 'sentence']\n",
      "['the', 'sentence', 'to', 'list']\n"
     ]
    }
   ],
   "source": [
    "# string - divide the sentence to list\n",
    "x = \"string divide the sentence to list\"\n",
    "nw = x.split()\n",
    "print(nw[1],nw[4])\n",
    "print(nw[1:4])\n",
    "print(nw[2:])"
   ]
  },
  {
   "cell_type": "code",
   "execution_count": 91,
   "id": "4a7e7eee",
   "metadata": {},
   "outputs": [
    {
     "name": "stdout",
     "output_type": "stream",
     "text": [
      "['string di', 'de to the sentence to list']\n",
      "['hambira', 'tudu']\n",
      "['puja', 'gmail.com#!']\n",
      "['puja', '3354']\n"
     ]
    },
    {
     "data": {
      "text/plain": [
       "'Puja'"
      ]
     },
     "execution_count": 91,
     "metadata": {},
     "output_type": "execute_result"
    }
   ],
   "source": [
    "# string - use split method\n",
    "a = \"hambira.tudu\"\n",
    "g = \"puja@gmail.com#!\"\n",
    "d = \"puja#3354\"\n",
    "info = \" Puja 3354 26 BLR\"\n",
    "print(x.split(\"vi\"))\n",
    "print(a.split(\".\"))\n",
    "print(g.split(\"@\"))\n",
    "print(d.split(\"#\"))\n",
    "\n",
    "# split and store info\n",
    "ifm = info.split()\n",
    "fn = ifm[0]\n",
    "fn"
   ]
  },
  {
   "cell_type": "code",
   "execution_count": 56,
   "id": "5d32e032",
   "metadata": {},
   "outputs": [
    {
     "name": "stdout",
     "output_type": "stream",
     "text": [
      "6\n",
      "Puja\n",
      " Puja\n",
      "Puja \n"
     ]
    }
   ],
   "source": [
    "# string - use strip method - rstrip & lstrip\n",
    "\n",
    "str(z).strip()\n",
    "ff = \" Puja \"\n",
    "print(len(ff))\n",
    "print(ff.strip())\n",
    "print(ff.rstrip())\n",
    "print(ff.lstrip())"
   ]
  },
  {
   "cell_type": "code",
   "execution_count": 90,
   "id": "ccc3ec61",
   "metadata": {},
   "outputs": [
    {
     "name": "stdout",
     "output_type": "stream",
     "text": [
      "best tudu\n"
     ]
    },
    {
     "data": {
      "text/plain": [
       "'puja@gmail.com'"
      ]
     },
     "execution_count": 90,
     "metadata": {},
     "output_type": "execute_result"
    }
   ],
   "source": [
    "# string - convert to uppper or lower or title case\n",
    "\n",
    "rr = \"PuJA is best girl\"\n",
    "rr.lower()\n",
    "rr.upper()\n",
    "rr.title()\n",
    "tmp = rr.lower()\n",
    "\n",
    "# replace the string\n",
    "tmp.replace(\"best\",\"BEST\")\n",
    "print(rr.split()[2],a.split(\".\")[1])\n",
    "g.replace(\"!#\", \" \")"
   ]
  },
  {
   "cell_type": "code",
   "execution_count": 77,
   "id": "df4f9321",
   "metadata": {},
   "outputs": [
    {
     "name": "stdout",
     "output_type": "stream",
     "text": [
      "hambira.tudu PuJA is best girl\n",
      "1000 PuJA is best girl\n"
     ]
    }
   ],
   "source": [
    "# string concat\n",
    "\n",
    "print(a + \" \" + rr + \" \")\n",
    "print(str(z)+ \" \"+ rr)"
   ]
  },
  {
   "cell_type": "code",
   "execution_count": 85,
   "id": "759f2977",
   "metadata": {},
   "outputs": [
    {
     "name": "stdout",
     "output_type": "stream",
     "text": [
      "S no-1000 PuJA puja@gmail.com\n",
      "S no - 1000 | PuJA is best girl | email - puja@gmail.com\n"
     ]
    }
   ],
   "source": [
    "#  string formating\n",
    "print(f\"S no-{z} {rr.split()[0]} {g}\")\n",
    "print(\"S no - {} | {} | email - {}\".format(z,rr,g))"
   ]
  },
  {
   "cell_type": "code",
   "execution_count": 89,
   "id": "9fa8fd62",
   "metadata": {},
   "outputs": [
    {
     "data": {
      "text/plain": [
       "'MLX_HTSP_00065'"
      ]
     },
     "execution_count": 89,
     "metadata": {},
     "output_type": "execute_result"
    }
   ],
   "source": [
    "# string rjust\n",
    "tt = \"65\"\n",
    "rt = tt.rjust(5,'0')\n",
    "rn = f\"MLX_HTSP_{rt}\"\n",
    "rn"
   ]
  },
  {
   "cell_type": "code",
   "execution_count": 59,
   "id": "ab1d58f2",
   "metadata": {},
   "outputs": [
    {
     "data": {
      "text/plain": [
       "True"
      ]
     },
     "execution_count": 59,
     "metadata": {},
     "output_type": "execute_result"
    }
   ],
   "source": [
    "# starts with\n",
    "xx = \"Allu\"\n",
    "xx.startswith(\"Pu\")"
   ]
  },
  {
   "cell_type": "code",
   "execution_count": 63,
   "id": "bfc71e02",
   "metadata": {},
   "outputs": [
    {
     "data": {
      "text/plain": [
       "False"
      ]
     },
     "execution_count": 63,
     "metadata": {},
     "output_type": "execute_result"
    }
   ],
   "source": []
  }
 ],
 "metadata": {
  "kernelspec": {
   "display_name": "Python 3",
   "language": "python",
   "name": "python3"
  },
  "language_info": {
   "codemirror_mode": {
    "name": "ipython",
    "version": 3
   },
   "file_extension": ".py",
   "mimetype": "text/x-python",
   "name": "python",
   "nbconvert_exporter": "python",
   "pygments_lexer": "ipython3",
   "version": "3.8.8"
  }
 },
 "nbformat": 4,
 "nbformat_minor": 5
}
