{
 "cells": [
  {
   "cell_type": "code",
   "execution_count": 107,
   "id": "ef2cbb6b",
   "metadata": {},
   "outputs": [
    {
     "data": {
      "text/plain": [
       "['India',\n",
       " 'is',\n",
       " 'Great.',\n",
       " 'Ritul',\n",
       " 'is',\n",
       " 'a',\n",
       " 'good',\n",
       " 'boy',\n",
       " '.',\n",
       " 'Prachi',\n",
       " 'is',\n",
       " 'a',\n",
       " 'bad',\n",
       " 'girl.',\n",
       " 'Owl',\n",
       " 'is',\n",
       " 'Intelligent',\n",
       " 'animal,',\n",
       " 'under',\n",
       " 'the',\n",
       " 'dark',\n",
       " 'night',\n",
       " 'of',\n",
       " 'the',\n",
       " 'earths',\n",
       " 'show']"
      ]
     },
     "execution_count": 107,
     "metadata": {},
     "output_type": "execute_result"
    }
   ],
   "source": [
    "x = \"India is Great. Ritul is a good boy . Prachi is a bad girl. Owl is Intelligent animal, under the dark night of the earths show\"\n",
    "y = \"Simple Learning, High Scoring!!!\"\n",
    "x.split()"
   ]
  },
  {
   "cell_type": "code",
   "execution_count": 108,
   "id": "d514e531",
   "metadata": {},
   "outputs": [
    {
     "name": "stdout",
     "output_type": "stream",
     "text": [
      "i: India\n",
      "i: is\n",
      "i: is\n",
      "a: a\n",
      "i: is\n",
      "a: a\n",
      "o: Owl\n",
      "i: is\n",
      "i: Intelligent\n",
      "a: animal,\n",
      "u: under\n",
      "o: of\n",
      "e: earths\n"
     ]
    }
   ],
   "source": [
    "targets = x.split()\n",
    "for target in targets:\n",
    "    if target[0] == \"i\"or target[0] == \"I\":\n",
    "        print(f\"i: {target}\")\n",
    "    if target[0] == \"o\" or target[0] == \"O\":\n",
    "        print(f\"o: {target}\")\n",
    "    if target[0] == \"a\"or target[0] == \"A\":\n",
    "        print(f\"a: {target}\")\n",
    "    if target[0] == \"e\"or target[0] == \"E\":\n",
    "        print(f\"e: {target}\")\n",
    "    if target[0] == \"u\"or target[0] == \"U\":\n",
    "        print(f\"u: {target}\")"
   ]
  },
  {
   "cell_type": "code",
   "execution_count": 113,
   "id": "d0b73767",
   "metadata": {},
   "outputs": [
    {
     "name": "stdout",
     "output_type": "stream",
     "text": [
      "i - India\n",
      "i - is\n",
      "i - is\n",
      "a - a\n",
      "i - is\n",
      "a - a\n",
      "o - Owl\n",
      "i - is\n",
      "i - Intelligent\n",
      "a - animal,\n",
      "u - under\n",
      "o - of\n",
      "e - earths\n"
     ]
    }
   ],
   "source": [
    "targets = x.split()\n",
    "for target in targets:\n",
    "    if target.lower()[0] in [\"a\",\"e\",\"i\",\"u\",\"o\"]:\n",
    "        print(f\"{target[0].lower()} - {target}\")"
   ]
  },
  {
   "cell_type": "code",
   "execution_count": 35,
   "id": "741191ee",
   "metadata": {},
   "outputs": [
    {
     "data": {
      "text/plain": [
       "41"
      ]
     },
     "execution_count": 35,
     "metadata": {},
     "output_type": "execute_result"
    }
   ],
   "source": [
    "len(x)"
   ]
  },
  {
   "cell_type": "code",
   "execution_count": 33,
   "id": "cebf4b74",
   "metadata": {
    "scrolled": true
   },
   "outputs": [
    {
     "data": {
      "text/plain": [
       "32"
      ]
     },
     "execution_count": 33,
     "metadata": {},
     "output_type": "execute_result"
    }
   ],
   "source": [
    "len(y)"
   ]
  },
  {
   "cell_type": "code",
   "execution_count": 2,
   "id": "5bd99b05",
   "metadata": {},
   "outputs": [
    {
     "data": {
      "text/plain": [
       "'Ritul'"
      ]
     },
     "execution_count": 2,
     "metadata": {},
     "output_type": "execute_result"
    }
   ],
   "source": [
    "x[:5]"
   ]
  },
  {
   "cell_type": "code",
   "execution_count": 4,
   "id": "ad3b62e3",
   "metadata": {
    "scrolled": true
   },
   "outputs": [
    {
     "data": {
      "text/plain": [
       "'ritul'"
      ]
     },
     "execution_count": 4,
     "metadata": {},
     "output_type": "execute_result"
    }
   ],
   "source": [
    "x[:5].lower()"
   ]
  },
  {
   "cell_type": "code",
   "execution_count": 7,
   "id": "c5fd9a13",
   "metadata": {},
   "outputs": [
    {
     "data": {
      "text/plain": [
       "'Learning'"
      ]
     },
     "execution_count": 7,
     "metadata": {},
     "output_type": "execute_result"
    }
   ],
   "source": [
    "y[7:15]"
   ]
  },
  {
   "cell_type": "code",
   "execution_count": 31,
   "id": "b861ae58",
   "metadata": {},
   "outputs": [
    {
     "name": "stdout",
     "output_type": "stream",
     "text": [
      "Ritul is a good BOY.Prachi is a bad girl.\n",
      "Ritul is a good boy.Prachi is a bad GIRL.\n"
     ]
    }
   ],
   "source": [
    "print(x.replace(\"boy\",\"BOY\"))\n",
    "print(x.replace(\"girl\",\"GIRL\"))"
   ]
  },
  {
   "cell_type": "code",
   "execution_count": 10,
   "id": "482fe9cd",
   "metadata": {},
   "outputs": [
    {
     "data": {
      "text/plain": [
       "['Ritul is a good boy', 'Prachi is a bad girl', '']"
      ]
     },
     "execution_count": 10,
     "metadata": {},
     "output_type": "execute_result"
    }
   ],
   "source": [
    "x.split(\".\")"
   ]
  },
  {
   "cell_type": "code",
   "execution_count": 13,
   "id": "25d851af",
   "metadata": {},
   "outputs": [
    {
     "data": {
      "text/plain": [
       "('Simple', 'Scoring!')"
      ]
     },
     "execution_count": 13,
     "metadata": {},
     "output_type": "execute_result"
    }
   ],
   "source": [
    "y[:6],y[22:30]"
   ]
  },
  {
   "cell_type": "code",
   "execution_count": 18,
   "id": "d4f8430c",
   "metadata": {},
   "outputs": [
    {
     "name": "stdout",
     "output_type": "stream",
     "text": [
      "Ritul is Learning,\n"
     ]
    }
   ],
   "source": [
    "print(f\"{x[:8]} {y.split()[1]}\")"
   ]
  },
  {
   "cell_type": "code",
   "execution_count": 25,
   "id": "ab509e5b",
   "metadata": {},
   "outputs": [
    {
     "name": "stdout",
     "output_type": "stream",
     "text": [
      "Ritul is a good boy.Prachi is a very bad girl.\n"
     ]
    }
   ],
   "source": [
    "print(f\"{x[:31]} very{x[31:]}\")"
   ]
  },
  {
   "cell_type": "code",
   "execution_count": 67,
   "id": "736532d8",
   "metadata": {},
   "outputs": [
    {
     "name": "stdout",
     "output_type": "stream",
     "text": [
      "string divide the s\n"
     ]
    },
    {
     "data": {
      "text/plain": [
       "(' divide the s', 'High Scoring!!!')"
      ]
     },
     "execution_count": 67,
     "metadata": {},
     "output_type": "execute_result"
    }
   ],
   "source": [
    "x[11]\n",
    "x[6:19],y[17:]"
   ]
  },
  {
   "cell_type": "code",
   "execution_count": 75,
   "id": "e43ecfcb",
   "metadata": {},
   "outputs": [
    {
     "name": "stdout",
     "output_type": "stream",
     "text": [
      "divide the s\n"
     ]
    },
    {
     "data": {
      "text/plain": [
       "['string', 'divide', 'the', 'sentence']"
      ]
     },
     "execution_count": 75,
     "metadata": {},
     "output_type": "execute_result"
    }
   ],
   "source": [
    "x = \"string divide the sentence to list\"\n",
    "print(x[7:19])\n",
    "\n",
    "# abc = x.split()\n",
    "#print(abc[:4])\n",
    "\n",
    "x.split()[:4]\n"
   ]
  },
  {
   "cell_type": "code",
   "execution_count": 86,
   "id": "88677a27",
   "metadata": {},
   "outputs": [
    {
     "data": {
      "text/plain": [
       "['saurav kumar', 'saini']"
      ]
     },
     "execution_count": 86,
     "metadata": {},
     "output_type": "execute_result"
    }
   ],
   "source": [
    "a = \"saurav kumar.saini\"\n",
    "g = \"puja@ gmail.com#!\"\n",
    "d = \"puja#3354\"\n",
    "\n",
    "a.split(\".\")\n",
    "#g.split(\"@\")"
   ]
  }
 ],
 "metadata": {
  "kernelspec": {
   "display_name": "Python 3",
   "language": "python",
   "name": "python3"
  },
  "language_info": {
   "codemirror_mode": {
    "name": "ipython",
    "version": 3
   },
   "file_extension": ".py",
   "mimetype": "text/x-python",
   "name": "python",
   "nbconvert_exporter": "python",
   "pygments_lexer": "ipython3",
   "version": "3.8.8"
  }
 },
 "nbformat": 4,
 "nbformat_minor": 5
}
