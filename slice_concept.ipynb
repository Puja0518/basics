{
 "cells": [
  {
   "cell_type": "code",
   "execution_count": 5,
   "id": "b6c94808",
   "metadata": {},
   "outputs": [],
   "source": [
    "a = (\"a\", \"b\", \"c\", \"d\", \"e\", \"f\", \"g\",\"h\", \"i\", \"j\", \"k\")"
   ]
  },
  {
   "cell_type": "code",
   "execution_count": 7,
   "id": "ca7f0e90",
   "metadata": {},
   "outputs": [
    {
     "data": {
      "text/plain": [
       "('a', 'd', 'g', 'j')"
      ]
     },
     "execution_count": 7,
     "metadata": {},
     "output_type": "execute_result"
    }
   ],
   "source": [
    "a[::3]\n",
    "# a[slice(0,8,3)]"
   ]
  },
  {
   "cell_type": "code",
   "execution_count": 12,
   "id": "e180a1bf",
   "metadata": {},
   "outputs": [
    {
     "data": {
      "text/plain": [
       "[200,\n",
       " 215,\n",
       " 230,\n",
       " 245,\n",
       " 260,\n",
       " 275,\n",
       " 290,\n",
       " 305,\n",
       " 320,\n",
       " 335,\n",
       " 350,\n",
       " 365,\n",
       " 380,\n",
       " 395,\n",
       " 410,\n",
       " 425,\n",
       " 440,\n",
       " 455,\n",
       " 470,\n",
       " 485,\n",
       " 500,\n",
       " 515,\n",
       " 530,\n",
       " 545,\n",
       " 560,\n",
       " 575,\n",
       " 590]"
      ]
     },
     "execution_count": 12,
     "metadata": {},
     "output_type": "execute_result"
    }
   ],
   "source": [
    "k = list(range(200,600))\n",
    "k[::15]"
   ]
  },
  {
   "cell_type": "code",
   "execution_count": 16,
   "id": "bcf88078",
   "metadata": {},
   "outputs": [],
   "source": [
    "t = [\"p\",\"y\",\"t\",\"h\",\"o\",\"n\"]"
   ]
  },
  {
   "cell_type": "code",
   "execution_count": 31,
   "id": "42fd5a0e",
   "metadata": {},
   "outputs": [
    {
     "data": {
      "text/plain": [
       "['o', 'h', 't', 'y']"
      ]
     },
     "execution_count": 31,
     "metadata": {},
     "output_type": "execute_result"
    }
   ],
   "source": [
    "t[-2:-6:-1]\n",
    "# t[-2]"
   ]
  },
  {
   "cell_type": "code",
   "execution_count": 24,
   "id": "15eec8e1",
   "metadata": {},
   "outputs": [
    {
     "data": {
      "text/plain": [
       "'ko'"
      ]
     },
     "execution_count": 24,
     "metadata": {},
     "output_type": "execute_result"
    }
   ],
   "source": [
    "str = 'python book'\n",
    "\n",
    "s1 = slice(-3)\n",
    "s2 = slice(-1, -5, -2)\n",
    "str[s1]\n",
    "str[s2]"
   ]
  }
 ],
 "metadata": {
  "kernelspec": {
   "display_name": "Python 3",
   "language": "python",
   "name": "python3"
  },
  "language_info": {
   "codemirror_mode": {
    "name": "ipython",
    "version": 3
   },
   "file_extension": ".py",
   "mimetype": "text/x-python",
   "name": "python",
   "nbconvert_exporter": "python",
   "pygments_lexer": "ipython3",
   "version": "3.8.8"
  }
 },
 "nbformat": 4,
 "nbformat_minor": 5
}
